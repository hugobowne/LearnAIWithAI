{
 "cells": [
  {
   "cell_type": "markdown",
   "metadata": {},
   "source": [
    "# Explore BrainTrust Eval Dataset\n",
    "\n",
    "Goal: Load the `SQL-agent-annotated` dataset from BrainTrust, inspect its structure, and figure out how to extract:\n",
    "\n",
    "1.  **Input:** Original user query.\n",
    "2.  **Expected:** Human review scores (Pass/Fail) and reasons.\n",
    "3.  **Metadata:** Actual agent outputs (final answer, tool calls) needed for scoring."
   ]
  },
  {
   "cell_type": "code",
   "execution_count": 1,
   "metadata": {},
   "outputs": [
    {
     "name": "stdout",
     "output_type": "stream",
     "text": [
      "Braintrust SDK imported.\n",
      "BRAINTRUST_API_KEY found.\n"
     ]
    }
   ],
   "source": [
    "import braintrust\n",
    "import os\n",
    "import json\n",
    "from dotenv import load_dotenv\n",
    "\n",
    "# Load environment variables (e.g., BRAINTRUST_API_KEY)\n",
    "# Make sure you have a .env file in the root or the key set in your environment\n",
    "load_dotenv() \n",
    "\n",
    "print(\"Braintrust SDK imported.\")\n",
    "# Ensure API key is loaded (optional check)\n",
    "if not os.getenv(\"BRAINTRUST_API_KEY\"):\n",
    "    print(\"Warning: BRAINTRUST_API_KEY not found in environment.\")\n",
    "else:\n",
    "    print(\"BRAINTRUST_API_KEY found.\")"
   ]
  },
  {
   "cell_type": "markdown",
   "metadata": {},
   "source": []
  },
  {
   "cell_type": "markdown",
   "metadata": {},
   "source": [
    "## Configuration"
   ]
  },
  {
   "cell_type": "code",
   "execution_count": 2,
   "metadata": {},
   "outputs": [
    {
     "name": "stdout",
     "output_type": "stream",
     "text": [
      "Project: Transcript Agent\n",
      "Dataset: SQL-agent-annotated\n"
     ]
    }
   ],
   "source": [
    "PROJECT_NAME = \"Transcript Agent\" # Make sure this matches your Braintrust project name\n",
    "DATASET_NAME = \"SQL-agent-annotated\" # The dataset created via the UI\n",
    "\n",
    "print(f\"Project: {PROJECT_NAME}\")\n",
    "print(f\"Dataset: {DATASET_NAME}\")"
   ]
  },
  {
   "cell_type": "markdown",
   "metadata": {},
   "source": [
    "## Initialize and Fetch Dataset Records"
   ]
  },
  {
   "cell_type": "code",
   "execution_count": 3,
   "metadata": {},
   "outputs": [
    {
     "name": "stdout",
     "output_type": "stream",
     "text": [
      "Successfully initialized dataset: SQL-agent-annotated\n",
      "Fetched 3 records for inspection.\n",
      "Type of first record: <class 'dict'>\n"
     ]
    }
   ],
   "source": [
    "# Initialize connection to the dataset\n",
    "# This uses the API key loaded from the environment\n",
    "try:\n",
    "    # Use 'with' context manager to ensure resources are cleaned up\n",
    "    with braintrust.init_dataset(\n",
    "        project=PROJECT_NAME,\n",
    "        name=DATASET_NAME\n",
    "    ) as dataset:\n",
    "        print(f\"Successfully initialized dataset: {DATASET_NAME}\")\n",
    "        \n",
    "        # Fetch records (use an iterator to avoid loading everything at once if large)\n",
    "        fetched_records = []\n",
    "        # Use the dataset object as an iterator\n",
    "        for i, record in enumerate(dataset):\n",
    "            # record is likely a Braintrust DatasetRecord object, but could be a dict\n",
    "            # We'll store the raw record for inspection\n",
    "            fetched_records.append(record) \n",
    "            \n",
    "            # Fetch only a few records for initial inspection\n",
    "            # Adjust the number as needed (fetching 3 here)\n",
    "            if i >= 2: \n",
    "                 break \n",
    "                 \n",
    "        print(f\"Fetched {len(fetched_records)} records for inspection.\")\n",
    "\n",
    "except Exception as e:\n",
    "    print(f\"Error initializing or fetching from dataset: {e}\")\n",
    "    fetched_records = [] # Ensure it's empty on error\n",
    "\n",
    "# Quick check if records were fetched\n",
    "if 'fetched_records' in locals() and fetched_records:\n",
    "    print(f\"Type of first record: {type(fetched_records[0])}\")\n",
    "else:\n",
    "    print(\"No records seem to have been fetched.\")\n"
   ]
  },
  {
   "cell_type": "markdown",
   "metadata": {},
   "source": [
    "## Inspect Record Structure\n",
    "\n",
    "Let's look at the structure of the first fetched dictionary to understand where the input, expected labels, and metadata (agent outputs) are located."
   ]
  },
  {
   "cell_type": "code",
   "execution_count": 4,
   "metadata": {},
   "outputs": [
    {
     "name": "stdout",
     "output_type": "stream",
     "text": [
      "{\n",
      "  \"_pagination_key\": \"p07498881093001281551\",\n",
      "  \"_xact_id\": \"1000195016097763644\",\n",
      "  \"created\": \"2025-04-29T23:28:29.962Z\",\n",
      "  \"dataset_id\": \"0809fe94-66a2-4093-856a-928e51f30412\",\n",
      "  \"expected\": {\n",
      "    \"error\": null,\n",
      "    \"final_answer\": \"The speaker with the most entries in the transcript is Hugo Bowne-Anderson, with 430 entries.\",\n",
      "    \"messages\": [\n",
      "      {\n",
      "        \"content\": \"Which speaker has the most entries in the transcript?\",\n",
      "        \"role\": \"user\"\n",
      "      },\n",
      "      {\n",
      "        \"annotations\": [],\n",
      "        \"audio\": null,\n",
      "        \"content\": null,\n",
      "        \"function_call\": null,\n",
      "        \"refusal\": null,\n",
      "        \"role\": \"assistant\",\n",
      "        \"tool_calls\": [\n",
      "          {\n",
      "            \"function\": {\n",
      "              \"arguments\": \"{\\\"sql_query\\\":\\\"SELECT speaker, COUNT(*) as entry_count FROM transcript_segments GROUP BY speaker ORDER BY entry_count DESC LIMIT 1;\\\"}\",\n",
      "              \"name\": \"query_database\"\n",
      "            },\n",
      "            \"id\": \"call_Nav6V13hc6X5v4QCiKW7z93v\",\n",
      "            \"type\": \"function\"\n",
      "          }\n",
      "        ]\n",
      "      },\n",
      "      {\n",
      "        \"content\": \"[{\\\"speaker\\\": \\\"hugo bowne-anderson\\\", \\\"entry_count\\\": 430}]\",\n",
      "        \"name\": \"query_database\",\n",
      "        \"role\": \"tool\",\n",
      "        \"tool_call_id\": \"call_Nav6V13hc6X5v4QCiKW7z93v\"\n",
      "      },\n",
      "      {\n",
      "        \"annotations\": [],\n",
      "        \"audio\": null,\n",
      "        \"content\": \"The speaker with the most entries in the transcript is Hugo Bowne-Anderson, with 430 entries.\",\n",
      "        \"function_call\": null,\n",
      "        \"refusal\": null,\n",
      "        \"role\": \"assistant\",\n",
      "        \"tool_calls\": null\n",
      "      }\n",
      "    ],\n",
      "    \"system_prompt\": \"\\n    You are a helpful assistant designed to answer questions about the LearnAIWithAI Workshop 1 transcript. \\n    Use the available tools to query the transcript database when necessary. \\n    The database table is ''transcript_segments'' and contains segments of the transcript.\\n    Base your answers SOLELY on the information retrieved from the database using the tools. \\n    If the information is not found in the database, say that you cannot answer the question based on the available transcript data.\\n    Be concise and directly answer the user's query based on the tool results.\\n    \",\n",
      "    \"user_query\": \"Which speaker has the most entries in the transcript?\"\n",
      "  },\n",
      "  \"id\": \"bea63886-aa60-4dc8-95d5-51ede82d5fba\",\n",
      "  \"input\": {\n",
      "    \"user_query\": \"Which speaker has the most entries in the transcript?\"\n",
      "  },\n",
      "  \"is_root\": true,\n",
      "  \"metadata\": {\n",
      "    \"Final Answer Quality Reason\": \"The final answer correctly states the speaker and count based on the query results.\",\n",
      "    \"SQL Correctness Reason\": \"The SQL query accurately calculates and retrieves the speaker with the highest entry count.\",\n",
      "    \"Tool Choice Reason\": \"Correctly chose the database tool to answer a question requiring data aggregation.\"\n",
      "  },\n",
      "  \"origin\": {\n",
      "    \"_xact_id\": \"1000195015918093026\",\n",
      "    \"id\": \"bea63886-aa60-4dc8-95d5-51ede82d5fba\",\n",
      "    \"object_id\": \"7b67d69f-2f0d-4102-a5fd-e448681d6627\",\n",
      "    \"object_type\": \"project_logs\"\n",
      "  },\n",
      "  \"project_id\": \"7b67d69f-2f0d-4102-a5fd-e448681d6627\",\n",
      "  \"root_span_id\": \"bea63886-aa60-4dc8-95d5-51ede82d5fba\",\n",
      "  \"span_id\": \"bea63886-aa60-4dc8-95d5-51ede82d5fba\",\n",
      "  \"tags\": null\n",
      "}\n"
     ]
    }
   ],
   "source": [
    "# Ensure we have fetched records before trying to access them\n",
    "if 'fetched_records' in locals() and fetched_records:\n",
    "    first_record_dict = fetched_records[0] # Get the first record dictionary\n",
    "    \n",
    "    # Pretty print the dictionary structure\n",
    "    print(json.dumps(first_record_dict, indent=2))\n",
    "         \n",
    "else:\n",
    "    print(\"Variable 'fetched_records' not defined or empty. Please run the fetching cell first.\")\n"
   ]
  },
  {
   "cell_type": "markdown",
   "metadata": {},
   "source": [
    "## Inspect Metadata Field\n",
    "\n",
    "Let's look specifically inside the `metadata` field of the first record to confirm the keys for the human review Pass/Fail scores and see if the agent outputs are duplicated there."
   ]
  },
  {
   "cell_type": "code",
   "execution_count": 5,
   "metadata": {},
   "outputs": [
    {
     "name": "stdout",
     "output_type": "stream",
     "text": [
      "{\n",
      "  \"Final Answer Quality Reason\": \"The final answer correctly states the speaker and count based on the query results.\",\n",
      "  \"SQL Correctness Reason\": \"The SQL query accurately calculates and retrieves the speaker with the highest entry count.\",\n",
      "  \"Tool Choice Reason\": \"Correctly chose the database tool to answer a question requiring data aggregation.\"\n",
      "}\n"
     ]
    }
   ],
   "source": [
    "# Ensure we have fetched records before trying to access them\n",
    "if 'fetched_records' in locals() and fetched_records:\n",
    "    first_record_dict = fetched_records[0] # Get the first record dictionary\n",
    "    \n",
    "    # Extract the metadata dictionary\n",
    "    metadata_dict = first_record_dict.get('metadata', {})\n",
    "    \n",
    "    # Pretty print the metadata dictionary structure\n",
    "    print(json.dumps(metadata_dict, indent=2))\n",
    "         \n",
    "else:\n",
    "    print(\"Variable 'fetched_records' not defined or empty. Please run the fetching cell first.\")"
   ]
  },
  {
   "cell_type": "markdown",
   "metadata": {},
   "source": [
    "## Re-Inspect Full Record and Object Attributes\n",
    "\n",
    "The `metadata` field only contained the reasons. Let's print the full record dictionary again and also check the attributes of the original record object fetched by the SDK to find where the Pass/Fail scores are stored."
   ]
  },
  {
   "cell_type": "code",
   "execution_count": 6,
   "metadata": {},
   "outputs": [
    {
     "name": "stdout",
     "output_type": "stream",
     "text": [
      "--- Full First Record Dictionary ---\n",
      "{\n",
      "  \"_pagination_key\": \"p07498881093001281551\",\n",
      "  \"_xact_id\": \"1000195016097763644\",\n",
      "  \"created\": \"2025-04-29T23:28:29.962Z\",\n",
      "  \"dataset_id\": \"0809fe94-66a2-4093-856a-928e51f30412\",\n",
      "  \"expected\": {\n",
      "    \"error\": null,\n",
      "    \"final_answer\": \"The speaker with the most entries in the transcript is Hugo Bowne-Anderson, with 430 entries.\",\n",
      "    \"messages\": [\n",
      "      {\n",
      "        \"content\": \"Which speaker has the most entries in the transcript?\",\n",
      "        \"role\": \"user\"\n",
      "      },\n",
      "      {\n",
      "        \"annotations\": [],\n",
      "        \"audio\": null,\n",
      "        \"content\": null,\n",
      "        \"function_call\": null,\n",
      "        \"refusal\": null,\n",
      "        \"role\": \"assistant\",\n",
      "        \"tool_calls\": [\n",
      "          {\n",
      "            \"function\": {\n",
      "              \"arguments\": \"{\\\"sql_query\\\":\\\"SELECT speaker, COUNT(*) as entry_count FROM transcript_segments GROUP BY speaker ORDER BY entry_count DESC LIMIT 1;\\\"}\",\n",
      "              \"name\": \"query_database\"\n",
      "            },\n",
      "            \"id\": \"call_Nav6V13hc6X5v4QCiKW7z93v\",\n",
      "            \"type\": \"function\"\n",
      "          }\n",
      "        ]\n",
      "      },\n",
      "      {\n",
      "        \"content\": \"[{\\\"speaker\\\": \\\"hugo bowne-anderson\\\", \\\"entry_count\\\": 430}]\",\n",
      "        \"name\": \"query_database\",\n",
      "        \"role\": \"tool\",\n",
      "        \"tool_call_id\": \"call_Nav6V13hc6X5v4QCiKW7z93v\"\n",
      "      },\n",
      "      {\n",
      "        \"annotations\": [],\n",
      "        \"audio\": null,\n",
      "        \"content\": \"The speaker with the most entries in the transcript is Hugo Bowne-Anderson, with 430 entries.\",\n",
      "        \"function_call\": null,\n",
      "        \"refusal\": null,\n",
      "        \"role\": \"assistant\",\n",
      "        \"tool_calls\": null\n",
      "      }\n",
      "    ],\n",
      "    \"system_prompt\": \"\\n    You are a helpful assistant designed to answer questions about the LearnAIWithAI Workshop 1 transcript. \\n    Use the available tools to query the transcript database when necessary. \\n    The database table is ''transcript_segments'' and contains segments of the transcript.\\n    Base your answers SOLELY on the information retrieved from the database using the tools. \\n    If the information is not found in the database, say that you cannot answer the question based on the available transcript data.\\n    Be concise and directly answer the user's query based on the tool results.\\n    \",\n",
      "    \"user_query\": \"Which speaker has the most entries in the transcript?\"\n",
      "  },\n",
      "  \"id\": \"bea63886-aa60-4dc8-95d5-51ede82d5fba\",\n",
      "  \"input\": {\n",
      "    \"user_query\": \"Which speaker has the most entries in the transcript?\"\n",
      "  },\n",
      "  \"is_root\": true,\n",
      "  \"metadata\": {\n",
      "    \"Final Answer Quality Reason\": \"The final answer correctly states the speaker and count based on the query results.\",\n",
      "    \"SQL Correctness Reason\": \"The SQL query accurately calculates and retrieves the speaker with the highest entry count.\",\n",
      "    \"Tool Choice Reason\": \"Correctly chose the database tool to answer a question requiring data aggregation.\"\n",
      "  },\n",
      "  \"origin\": {\n",
      "    \"_xact_id\": \"1000195015918093026\",\n",
      "    \"id\": \"bea63886-aa60-4dc8-95d5-51ede82d5fba\",\n",
      "    \"object_id\": \"7b67d69f-2f0d-4102-a5fd-e448681d6627\",\n",
      "    \"object_type\": \"project_logs\"\n",
      "  },\n",
      "  \"project_id\": \"7b67d69f-2f0d-4102-a5fd-e448681d6627\",\n",
      "  \"root_span_id\": \"bea63886-aa60-4dc8-95d5-51ede82d5fba\",\n",
      "  \"span_id\": \"bea63886-aa60-4dc8-95d5-51ede82d5fba\",\n",
      "  \"tags\": null\n",
      "}\n",
      "\n",
      "--- Attributes of Original Record Object ---\n",
      "['__class__', '__class_getitem__', '__contains__', '__delattr__', '__delitem__', '__dir__', '__doc__', '__eq__', '__format__', '__ge__', '__getattribute__', '__getitem__', '__gt__', '__hash__', '__init__', '__init_subclass__', '__ior__', '__iter__', '__le__', '__len__', '__lt__', '__ne__', '__new__', '__or__', '__reduce__', '__reduce_ex__', '__repr__', '__reversed__', '__ror__', '__setattr__', '__setitem__', '__sizeof__', '__str__', '__subclasshook__', 'clear', 'copy', 'fromkeys', 'get', 'items', 'keys', 'pop', 'popitem', 'setdefault', 'update', 'values']\n",
      "\n",
      "No '.scores' attribute found directly on the object.\n"
     ]
    }
   ],
   "source": [
    "# Ensure we have fetched records \n",
    "if 'fetched_records' in locals() and fetched_records:\n",
    "    first_record_object = fetched_records[0] \n",
    "    first_record_dict = {}\n",
    "    if hasattr(first_record_object, 'as_dict'): \n",
    "        first_record_dict = first_record_object.as_dict()\n",
    "    elif isinstance(first_record_object, dict):\n",
    "         first_record_dict = first_record_object\n",
    "    elif hasattr(first_record_object, '__dict__'): \n",
    "        first_record_dict = first_record_object.__dict__\n",
    "\n",
    "    print(\"--- Full First Record Dictionary ---\")\n",
    "    if first_record_dict:\n",
    "         print(json.dumps(first_record_dict, indent=2))\n",
    "    else:\n",
    "         print(\"(Could not convert to dictionary)\")\n",
    "\n",
    "    print(\"\\n--- Attributes of Original Record Object ---\")\n",
    "    # Use dir() to list attributes and methods\n",
    "    print(dir(first_record_object))\n",
    "    \n",
    "    # Check if there's a specific 'scores' attribute\n",
    "    if hasattr(first_record_object, 'scores'):\n",
    "        print(\"\\nFound a '.scores' attribute. Value:\")\n",
    "        print(getattr(first_record_object, 'scores'))\n",
    "    else:\n",
    "        print(\"\\nNo '.scores' attribute found directly on the object.\")\n",
    "         \n",
    "else:\n",
    "    print(\"Variable 'fetched_records' not defined or empty. Please run the fetching cell first.\")\n"
   ]
  },
  {
   "cell_type": "markdown",
   "metadata": {},
   "source": [
    "## Re-Inspect Full Record and Object Attributes\n",
    "\n",
    "The `metadata` field only contained the reasons. Let's print the full record dictionary again and also check the attributes of the original record object fetched by the SDK to find where the Pass/Fail scores are stored."
   ]
  },
  {
   "cell_type": "code",
   "execution_count": 7,
   "metadata": {},
   "outputs": [
    {
     "name": "stdout",
     "output_type": "stream",
     "text": [
      "--- Full First Record Dictionary ---\n",
      "{\n",
      "  \"_pagination_key\": \"p07498881093001281551\",\n",
      "  \"_xact_id\": \"1000195016097763644\",\n",
      "  \"created\": \"2025-04-29T23:28:29.962Z\",\n",
      "  \"dataset_id\": \"0809fe94-66a2-4093-856a-928e51f30412\",\n",
      "  \"expected\": {\n",
      "    \"error\": null,\n",
      "    \"final_answer\": \"The speaker with the most entries in the transcript is Hugo Bowne-Anderson, with 430 entries.\",\n",
      "    \"messages\": [\n",
      "      {\n",
      "        \"content\": \"Which speaker has the most entries in the transcript?\",\n",
      "        \"role\": \"user\"\n",
      "      },\n",
      "      {\n",
      "        \"annotations\": [],\n",
      "        \"audio\": null,\n",
      "        \"content\": null,\n",
      "        \"function_call\": null,\n",
      "        \"refusal\": null,\n",
      "        \"role\": \"assistant\",\n",
      "        \"tool_calls\": [\n",
      "          {\n",
      "            \"function\": {\n",
      "              \"arguments\": \"{\\\"sql_query\\\":\\\"SELECT speaker, COUNT(*) as entry_count FROM transcript_segments GROUP BY speaker ORDER BY entry_count DESC LIMIT 1;\\\"}\",\n",
      "              \"name\": \"query_database\"\n",
      "            },\n",
      "            \"id\": \"call_Nav6V13hc6X5v4QCiKW7z93v\",\n",
      "            \"type\": \"function\"\n",
      "          }\n",
      "        ]\n",
      "      },\n",
      "      {\n",
      "        \"content\": \"[{\\\"speaker\\\": \\\"hugo bowne-anderson\\\", \\\"entry_count\\\": 430}]\",\n",
      "        \"name\": \"query_database\",\n",
      "        \"role\": \"tool\",\n",
      "        \"tool_call_id\": \"call_Nav6V13hc6X5v4QCiKW7z93v\"\n",
      "      },\n",
      "      {\n",
      "        \"annotations\": [],\n",
      "        \"audio\": null,\n",
      "        \"content\": \"The speaker with the most entries in the transcript is Hugo Bowne-Anderson, with 430 entries.\",\n",
      "        \"function_call\": null,\n",
      "        \"refusal\": null,\n",
      "        \"role\": \"assistant\",\n",
      "        \"tool_calls\": null\n",
      "      }\n",
      "    ],\n",
      "    \"system_prompt\": \"\\n    You are a helpful assistant designed to answer questions about the LearnAIWithAI Workshop 1 transcript. \\n    Use the available tools to query the transcript database when necessary. \\n    The database table is ''transcript_segments'' and contains segments of the transcript.\\n    Base your answers SOLELY on the information retrieved from the database using the tools. \\n    If the information is not found in the database, say that you cannot answer the question based on the available transcript data.\\n    Be concise and directly answer the user's query based on the tool results.\\n    \",\n",
      "    \"user_query\": \"Which speaker has the most entries in the transcript?\"\n",
      "  },\n",
      "  \"id\": \"bea63886-aa60-4dc8-95d5-51ede82d5fba\",\n",
      "  \"input\": {\n",
      "    \"user_query\": \"Which speaker has the most entries in the transcript?\"\n",
      "  },\n",
      "  \"is_root\": true,\n",
      "  \"metadata\": {\n",
      "    \"Final Answer Quality Reason\": \"The final answer correctly states the speaker and count based on the query results.\",\n",
      "    \"SQL Correctness Reason\": \"The SQL query accurately calculates and retrieves the speaker with the highest entry count.\",\n",
      "    \"Tool Choice Reason\": \"Correctly chose the database tool to answer a question requiring data aggregation.\"\n",
      "  },\n",
      "  \"origin\": {\n",
      "    \"_xact_id\": \"1000195015918093026\",\n",
      "    \"id\": \"bea63886-aa60-4dc8-95d5-51ede82d5fba\",\n",
      "    \"object_id\": \"7b67d69f-2f0d-4102-a5fd-e448681d6627\",\n",
      "    \"object_type\": \"project_logs\"\n",
      "  },\n",
      "  \"project_id\": \"7b67d69f-2f0d-4102-a5fd-e448681d6627\",\n",
      "  \"root_span_id\": \"bea63886-aa60-4dc8-95d5-51ede82d5fba\",\n",
      "  \"span_id\": \"bea63886-aa60-4dc8-95d5-51ede82d5fba\",\n",
      "  \"tags\": null\n",
      "}\n",
      "\n",
      "--- Attributes of Original Record Object ---\n",
      "['__class__', '__class_getitem__', '__contains__', '__delattr__', '__delitem__', '__dir__', '__doc__', '__eq__', '__format__', '__ge__', '__getattribute__', '__getitem__', '__gt__', '__hash__', '__init__', '__init_subclass__', '__ior__', '__iter__', '__le__', '__len__', '__lt__', '__ne__', '__new__', '__or__', '__reduce__', '__reduce_ex__', '__repr__', '__reversed__', '__ror__', '__setattr__', '__setitem__', '__sizeof__', '__str__', '__subclasshook__', 'clear', 'copy', 'fromkeys', 'get', 'items', 'keys', 'pop', 'popitem', 'setdefault', 'update', 'values']\n",
      "\n",
      "No '.scores' attribute found directly on the object.\n"
     ]
    }
   ],
   "source": [
    "# Ensure we have fetched records \n",
    "if 'fetched_records' in locals() and fetched_records:\n",
    "    first_record_object = fetched_records[0] \n",
    "    first_record_dict = {}\n",
    "    if hasattr(first_record_object, 'as_dict'): \n",
    "        first_record_dict = first_record_object.as_dict()\n",
    "    elif isinstance(first_record_object, dict):\n",
    "         first_record_dict = first_record_object\n",
    "    elif hasattr(first_record_object, '__dict__'): \n",
    "        first_record_dict = first_record_object.__dict__\n",
    "\n",
    "    print(\"--- Full First Record Dictionary ---\")\n",
    "    if first_record_dict:\n",
    "         print(json.dumps(first_record_dict, indent=2))\n",
    "    else:\n",
    "         print(\"(Could not convert to dictionary)\")\n",
    "\n",
    "    print(\"\\n--- Attributes of Original Record Object ---\")\n",
    "    # Use dir() to list attributes and methods\n",
    "    print(dir(first_record_object))\n",
    "    \n",
    "    # Check if there's a specific 'scores' attribute\n",
    "    if hasattr(first_record_object, 'scores'):\n",
    "        print(\"\\nFound a '.scores' attribute. Value:\")\n",
    "        print(getattr(first_record_object, 'scores'))\n",
    "    else:\n",
    "        print(\"\\nNo '.scores' attribute found directly on the object.\")\n",
    "         \n",
    "else:\n",
    "    print(\"Variable 'fetched_records' not defined or empty. Please run the fetching cell first.\")\n"
   ]
  },
  {
   "cell_type": "code",
   "execution_count": null,
   "metadata": {},
   "outputs": [],
   "source": []
  }
 ],
 "metadata": {
  "kernelspec": {
   "display_name": "Python 3",
   "language": "python",
   "name": "python3"
  },
  "language_info": {
   "codemirror_mode": {
    "name": "ipython",
    "version": 3
   },
   "file_extension": ".py",
   "mimetype": "text/x-python",
   "name": "python",
   "nbconvert_exporter": "python",
   "pygments_lexer": "ipython3",
   "version": "3.10.0"
  }
 },
 "nbformat": 4,
 "nbformat_minor": 2
}
